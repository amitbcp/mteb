{
 "cells": [
  {
   "cell_type": "code",
   "execution_count": null,
   "id": "ef0b10b0-ce1a-45be-bb01-c0237373b08a",
   "metadata": {},
   "outputs": [],
   "source": [
    "models = [\n",
    "# royokong/e5-v\n",
    "# 'BAAI/bge-m3',\n",
    "'BAAI/bge-base-en-v1.5',\n",
    "# 'Alibaba-NLP/gme-Qwen2-VL-2B-Instruct',\n",
    "# 'Alibaba-NLP/gme-Qwen2-VL-7B-Instruct',\n",
    "# 'nyu-visionx/moco-v3-vit-b',\n",
    "# 'nyu-visionx/moco-v3-vit-l',\n",
    "# 'jinaai/jina-clip-v1',\n",
    "# 'Linq-AI-Research/Linq-Embed-Mistral',\n",
    "# 'embed-multilingual-v3.0-v', Some Other Error\n",
    "# 'embed-english-v3.0-v' Some Other Error\n",
    "]"
   ]
  },
  {
   "cell_type": "code",
   "execution_count": 1,
   "id": "46d8c290-307b-4394-bc7f-d0ba986b9c54",
   "metadata": {},
   "outputs": [
    {
     "name": "stderr",
     "output_type": "stream",
     "text": [
      "/home/aamita/miniconda3/envs/image_retrieval/lib/python3.12/site-packages/tqdm/auto.py:21: TqdmWarning: IProgress not found. Please update jupyter and ipywidgets. See https://ipywidgets.readthedocs.io/en/stable/user_install.html\n",
      "  from .autonotebook import tqdm as notebook_tqdm\n"
     ]
    },
    {
     "name": "stdout",
     "output_type": "stream",
     "text": [
      "/mnt/shared/aamita/project/image_retrieval/mteb/mteb/__init__.py\n"
     ]
    }
   ],
   "source": [
    "import mteb\n",
    "print(mteb.__file__)\n"
   ]
  },
  {
   "cell_type": "code",
   "execution_count": 2,
   "id": "7ed9c1b6-3968-4abe-8b48-81b823ab3e3e",
   "metadata": {},
   "outputs": [
    {
     "name": "stdout",
     "output_type": "stream",
     "text": [
      "Help on function get_model in module mteb.models.overview:\n",
      "\n",
      "get_model(model_name: 'str', revision: 'str | None' = None, **kwargs: 'Any') -> 'Encoder'\n",
      "    A function to fetch a model object by name.\n",
      "\n",
      "    Args:\n",
      "        model_name: Name of the model to fetch\n",
      "        revision: Revision of the model to fetch\n",
      "        **kwargs: Additional keyword arguments to pass to the model loader\n",
      "\n",
      "    Returns:\n",
      "        A model object\n",
      "\n"
     ]
    }
   ],
   "source": [
    "from mteb import get_model\n",
    "help(mteb.get_model)\n"
   ]
  },
  {
   "cell_type": "code",
   "execution_count": 3,
   "id": "b053444e-d19c-44de-8f2b-fce836d54037",
   "metadata": {},
   "outputs": [
    {
     "name": "stdout",
     "output_type": "stream",
     "text": [
      "-e git+https://github.com/embeddings-benchmark/mteb.git@a4456ec1739f021df22b28982dff8a5883cd68d8#egg=mteb\n"
     ]
    }
   ],
   "source": [
    "!pip freeze | grep mteb"
   ]
  },
  {
   "cell_type": "code",
   "execution_count": 4,
   "id": "90e15ca8-7039-4e06-8a1d-fd739310f701",
   "metadata": {},
   "outputs": [
    {
     "ename": "AttributeError",
     "evalue": "module 'mteb' has no attribute 'MODEL_REGISTRY'",
     "output_type": "error",
     "traceback": [
      "\u001b[0;31m---------------------------------------------------------------------------\u001b[0m",
      "\u001b[0;31mAttributeError\u001b[0m                            Traceback (most recent call last)",
      "Cell \u001b[0;32mIn[4], line 1\u001b[0m\n\u001b[0;32m----> 1\u001b[0m mteb\u001b[38;5;241m.\u001b[39mMODEL_REGISTRY\n",
      "\u001b[0;31mAttributeError\u001b[0m: module 'mteb' has no attribute 'MODEL_REGISTRY'"
     ]
    }
   ],
   "source": [
    "mteb.MODEL_REGISTRY"
   ]
  },
  {
   "cell_type": "code",
   "execution_count": 5,
   "id": "f3792665-8d9f-4d75-81c6-9a58829b4fe6",
   "metadata": {},
   "outputs": [
    {
     "ename": "NameError",
     "evalue": "name 'royokong' is not defined",
     "output_type": "error",
     "traceback": [
      "\u001b[0;31m---------------------------------------------------------------------------\u001b[0m",
      "\u001b[0;31mNameError\u001b[0m                                 Traceback (most recent call last)",
      "Cell \u001b[0;32mIn[5], line 1\u001b[0m\n\u001b[0;32m----> 1\u001b[0m royokong\u001b[38;5;241m/\u001b[39me5\u001b[38;5;241m-\u001b[39mv\n",
      "\u001b[0;31mNameError\u001b[0m: name 'royokong' is not defined"
     ]
    }
   ],
   "source": [
    "royokong/e5-v\n",
    "BAAI/bge-m3\n",
    "BAAI/bge-base-en-v1.5\n",
    "Alibaba-NLP/gme-Qwen2-VL-2B-Instruct\n",
    "Alibaba-NLP/gme-Qwen2-VL-7B-Instruct\n",
    "nyu-visionx/moco-v3-vit-b\n",
    "nyu-visionx/moco-v3-vit-l\n",
    "jinaai/jina-clip-v1\n",
    "Linq-AI-Research/Linq-Embed-Mistral\n",
    "embed-multilingual-v3.0-v\n",
    "embed-english-v3.0-v"
   ]
  },
  {
   "cell_type": "code",
   "execution_count": null,
   "id": "1164d897-d033-416c-94eb-33da13f60131",
   "metadata": {},
   "outputs": [],
   "source": []
  }
 ],
 "metadata": {
  "kernelspec": {
   "display_name": "image_retrieval",
   "language": "python",
   "name": "image_retrieval"
  },
  "language_info": {
   "codemirror_mode": {
    "name": "ipython",
    "version": 3
   },
   "file_extension": ".py",
   "mimetype": "text/x-python",
   "name": "python",
   "nbconvert_exporter": "python",
   "pygments_lexer": "ipython3",
   "version": "3.12.9"
  }
 },
 "nbformat": 4,
 "nbformat_minor": 5
}
