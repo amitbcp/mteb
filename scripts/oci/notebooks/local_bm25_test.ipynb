{
 "cells": [
  {
   "cell_type": "code",
   "execution_count": 1,
   "id": "a0c391c9-b884-426e-aac3-ded2e441361c",
   "metadata": {},
   "outputs": [
    {
     "name": "stderr",
     "output_type": "stream",
     "text": [
      "/Users/aamita/miniconda3/envs/image_retrieval/lib/python3.12/site-packages/tqdm/auto.py:21: TqdmWarning: IProgress not found. Please update jupyter and ipywidgets. See https://ipywidgets.readthedocs.io/en/stable/user_install.html\n",
      "  from .autonotebook import tqdm as notebook_tqdm\n"
     ]
    }
   ],
   "source": [
    "import bm25s\n",
    "import Stemmer  # optional: for stemming"
   ]
  },
  {
   "cell_type": "code",
   "execution_count": 2,
   "id": "5f0de06b-793a-4d9c-b352-427d8156ce3d",
   "metadata": {},
   "outputs": [],
   "source": [
    "# Create your corpus here\n",
    "corpus = [\n",
    "    \"a cat is a feline and likes to purr\",\n",
    "    \"a dog is the human's best friend and loves to play\",\n",
    "    \"a bird is a beautiful animal that can fly\",\n",
    "    \"a fish is a creature that lives in water and swims\",\n",
    "]\n",
    "\n",
    "\n",
    "corpus1 = [\n",
    "    \"a cat is a feline and likes to purr\",\n",
    "    \"a dog is the human's best friend and loves to play\",\n",
    "]\n",
    "\n",
    "\n",
    "corpus2 = [\n",
    "    \"a bird is a beautiful animal that can fly\",\n",
    "    \"a fish is a creature that lives in water and swims\",\n",
    "]\n",
    "\n",
    "# optional: create a stemmer\n",
    "stemmer = Stemmer.Stemmer(\"english\")"
   ]
  },
  {
   "cell_type": "code",
   "execution_count": 4,
   "id": "821fb6dd-c261-4e52-b1db-918782dafb9b",
   "metadata": {},
   "outputs": [
    {
     "name": "stderr",
     "output_type": "stream",
     "text": [
      "                                                                                                                                                                                                                \r"
     ]
    },
    {
     "data": {
      "text/plain": [
       "Tokenized(\n",
       "  \"ids\": [\n",
       "    0: [7, 11, 13, 19]\n",
       "    1: [8, 14, 4, 12, 3, 0]\n",
       "    2: [16, 6, 1, 10, 17]\n",
       "    3: [18, 9, 15, 2, 5]\n",
       "  ],\n",
       "  \"vocab\": [\n",
       "    'anim': 1\n",
       "    'beauti': 6\n",
       "    'best': 4\n",
       "    'bird': 16\n",
       "    'can': 10\n",
       "    'cat': 7\n",
       "    'creatur': 9\n",
       "    'dog': 8\n",
       "    'felin': 11\n",
       "    'fish': 18\n",
       "    ... (total 20 tokens)\n",
       "  ],\n",
       ")"
      ]
     },
     "execution_count": 4,
     "metadata": {},
     "output_type": "execute_result"
    }
   ],
   "source": [
    "# Tokenize the corpus and only keep the ids (faster and saves memory)\n",
    "corpus_tokens = bm25s.tokenize(corpus, stopwords=\"en\", stemmer=stemmer)\n",
    "corpus_tokens"
   ]
  },
  {
   "cell_type": "code",
   "execution_count": 10,
   "id": "d173cd00-8f89-4bff-ae50-11f163adb141",
   "metadata": {},
   "outputs": [
    {
     "data": {
      "text/plain": [
       "([[4, 9, 3, 6], [0, 2, 5, 8, 1, 7]],\n",
       " {'dog': 0,\n",
       "  'love': 1,\n",
       "  'human': 2,\n",
       "  'like': 3,\n",
       "  'cat': 4,\n",
       "  'best': 5,\n",
       "  'purr': 6,\n",
       "  'play': 7,\n",
       "  'friend': 8,\n",
       "  'felin': 9},\n",
       " [[2, 9, 4, 8, 0], [3, 1, 5, 7, 6]],\n",
       " {'fli': 0,\n",
       "  'creatur': 1,\n",
       "  'bird': 2,\n",
       "  'fish': 3,\n",
       "  'anim': 4,\n",
       "  'live': 5,\n",
       "  'swim': 6,\n",
       "  'water': 7,\n",
       "  'can': 8,\n",
       "  'beauti': 9,\n",
       "  '': 10})"
      ]
     },
     "execution_count": 10,
     "metadata": {},
     "output_type": "execute_result"
    }
   ],
   "source": [
    "corpus_tokens1 + corpus_tokens2"
   ]
  },
  {
   "cell_type": "code",
   "execution_count": 8,
   "id": "f84c6502-5433-49f3-8183-fb0161887b06",
   "metadata": {},
   "outputs": [
    {
     "name": "stderr",
     "output_type": "stream",
     "text": [
      "                                                                                                                                                                    \r"
     ]
    },
    {
     "data": {
      "text/plain": [
       "{'k1': 1.5,\n",
       " 'b': 0.75,\n",
       " 'delta': 0.5,\n",
       " 'dtype': 'float32',\n",
       " 'int_dtype': 'int32',\n",
       " 'method': 'lucene',\n",
       " 'idf_method': 'lucene',\n",
       " 'methods_requiring_nonoccurrence': ('bm25l', 'bm25+'),\n",
       " 'corpus': None,\n",
       " '_original_version': '0.2.12',\n",
       " 'backend': 'numpy',\n",
       " 'nonoccurrence_array': None,\n",
       " 'scores': {'data': array([0.27725887, 0.27725887, 0.27725887, 0.27725887, 0.27725887,\n",
       "         0.27725887, 0.27725887, 0.27725887, 0.27725887, 0.27725887],\n",
       "        dtype=float32),\n",
       "  'indices': array([0, 1, 0, 1, 0, 1, 1, 1, 0, 0], dtype=int32),\n",
       "  'indptr': array([ 0,  1,  2,  3,  4,  5,  6,  7,  8,  9, 10], dtype=int32),\n",
       "  'num_docs': 2},\n",
       " 'vocab_dict': {'fli': 0,\n",
       "  'creatur': 1,\n",
       "  'bird': 2,\n",
       "  'fish': 3,\n",
       "  'anim': 4,\n",
       "  'live': 5,\n",
       "  'swim': 6,\n",
       "  'water': 7,\n",
       "  'can': 8,\n",
       "  'beauti': 9,\n",
       "  '': 10},\n",
       " 'unique_token_ids_set': {0, 1, 2, 3, 4, 5, 6, 7, 8, 9, 10}}"
      ]
     },
     "execution_count": 8,
     "metadata": {},
     "output_type": "execute_result"
    }
   ],
   "source": [
    "# Tokenize the corpus and only keep the ids (faster and saves memory)\n",
    "corpus_tokens1 = bm25s.tokenize(corpus1, stopwords=\"en\", stemmer=stemmer)\n",
    "corpus_tokens2 = bm25s.tokenize(corpus2, stopwords=\"en\", stemmer=stemmer)\n",
    "retriever = bm25s.BM25()\n",
    "# retriever.index(corpus_tokens1)\n",
    "retriever.index(corpus_tokens2)\n",
    "retriever.__dict__"
   ]
  },
  {
   "cell_type": "code",
   "execution_count": 5,
   "id": "520c61b3-cb1a-4b3d-992e-068b75cf4d54",
   "metadata": {},
   "outputs": [
    {
     "data": {
      "text/plain": [
       "{'k1': 1.5,\n",
       " 'b': 0.75,\n",
       " 'delta': 0.5,\n",
       " 'dtype': 'float32',\n",
       " 'int_dtype': 'int32',\n",
       " 'method': 'lucene',\n",
       " 'idf_method': 'lucene',\n",
       " 'methods_requiring_nonoccurrence': ('bm25l', 'bm25+'),\n",
       " 'corpus': None,\n",
       " '_original_version': '0.2.12',\n",
       " 'backend': 'numpy',\n",
       " 'nonoccurrence_array': None,\n",
       " 'scores': {'data': array([0.27725887, 0.27725887, 0.27725887, 0.27725887, 0.27725887,\n",
       "         0.27725887, 0.27725887, 0.27725887, 0.27725887, 0.27725887],\n",
       "        dtype=float32),\n",
       "  'indices': array([0, 1, 0, 1, 0, 1, 1, 1, 0, 0], dtype=int32),\n",
       "  'indptr': array([ 0,  1,  2,  3,  4,  5,  6,  7,  8,  9, 10], dtype=int32),\n",
       "  'num_docs': 2},\n",
       " 'vocab_dict': {'fli': 0,\n",
       "  'creatur': 1,\n",
       "  'bird': 2,\n",
       "  'fish': 3,\n",
       "  'anim': 4,\n",
       "  'live': 5,\n",
       "  'swim': 6,\n",
       "  'water': 7,\n",
       "  'can': 8,\n",
       "  'beauti': 9,\n",
       "  '': 10},\n",
       " 'unique_token_ids_set': {0, 1, 2, 3, 4, 5, 6, 7, 8, 9, 10}}"
      ]
     },
     "execution_count": 5,
     "metadata": {},
     "output_type": "execute_result"
    }
   ],
   "source": [
    "retriever.__dict__"
   ]
  },
  {
   "cell_type": "code",
   "execution_count": 15,
   "id": "9e45ac35-dac0-4c33-8f94-664b666a5294",
   "metadata": {},
   "outputs": [
    {
     "data": {
      "text/plain": [
       "{'play': 0,\n",
       " 'anim': 1,\n",
       " 'water': 2,\n",
       " 'love': 3,\n",
       " 'best': 4,\n",
       " 'swim': 5,\n",
       " 'beauti': 6,\n",
       " 'cat': 7,\n",
       " 'dog': 8,\n",
       " 'creatur': 9,\n",
       " 'can': 10,\n",
       " 'felin': 11,\n",
       " 'friend': 12,\n",
       " 'like': 13,\n",
       " 'human': 14,\n",
       " 'live': 15,\n",
       " 'bird': 16,\n",
       " 'fli': 17,\n",
       " 'fish': 18,\n",
       " 'purr': 19,\n",
       " '': 20}"
      ]
     },
     "execution_count": 15,
     "metadata": {},
     "output_type": "execute_result"
    }
   ],
   "source": [
    "corpus_tokens[1]"
   ]
  },
  {
   "cell_type": "code",
   "execution_count": 22,
   "id": "a627cac6-c29b-4c32-8c9d-c0ad7ffc2ba4",
   "metadata": {
    "scrolled": true
   },
   "outputs": [
    {
     "name": "stderr",
     "output_type": "stream",
     "text": [
      "                                                                                                                                                                    \r"
     ]
    },
    {
     "ename": "TypeError",
     "evalue": "unhashable type: 'list'",
     "output_type": "error",
     "traceback": [
      "\u001b[0;31m---------------------------------------------------------------------------\u001b[0m",
      "\u001b[0;31mTypeError\u001b[0m                                 Traceback (most recent call last)",
      "Cell \u001b[0;32mIn[22], line 3\u001b[0m\n\u001b[1;32m      1\u001b[0m \u001b[38;5;66;03m# Create the BM25 model and index the corpus\u001b[39;00m\n\u001b[1;32m      2\u001b[0m \u001b[38;5;66;03m# retriever = bm25s.BM25()\u001b[39;00m\n\u001b[0;32m----> 3\u001b[0m retriever\u001b[38;5;241m.\u001b[39mindex([corpus_tokens,corpus_tokens])\n\u001b[1;32m      4\u001b[0m retriever\n",
      "File \u001b[0;32m~/miniconda3/envs/image_retrieval/lib/python3.12/site-packages/bm25s/__init__.py:458\u001b[0m, in \u001b[0;36mBM25.index\u001b[0;34m(self, corpus, create_empty_token, show_progress, leave_progress)\u001b[0m\n\u001b[1;32m    456\u001b[0m \u001b[38;5;28;01mif\u001b[39;00m inferred_corpus_obj \u001b[38;5;241m==\u001b[39m \u001b[38;5;124m\"\u001b[39m\u001b[38;5;124mtokens\u001b[39m\u001b[38;5;124m\"\u001b[39m:\n\u001b[1;32m    457\u001b[0m     logger\u001b[38;5;241m.\u001b[39mdebug(msg\u001b[38;5;241m=\u001b[39m\u001b[38;5;124m\"\u001b[39m\u001b[38;5;124mBuilding index from tokens\u001b[39m\u001b[38;5;124m\"\u001b[39m)\n\u001b[0;32m--> 458\u001b[0m     scores, vocab_dict \u001b[38;5;241m=\u001b[39m \u001b[38;5;28mself\u001b[39m\u001b[38;5;241m.\u001b[39mbuild_index_from_tokens(\n\u001b[1;32m    459\u001b[0m         corpus, leave_progress\u001b[38;5;241m=\u001b[39mleave_progress, show_progress\u001b[38;5;241m=\u001b[39mshow_progress\n\u001b[1;32m    460\u001b[0m     )\n\u001b[1;32m    461\u001b[0m \u001b[38;5;28;01melse\u001b[39;00m:\n\u001b[1;32m    462\u001b[0m     \u001b[38;5;28;01mif\u001b[39;00m inferred_corpus_obj \u001b[38;5;241m==\u001b[39m \u001b[38;5;124m\"\u001b[39m\u001b[38;5;124mtuple\u001b[39m\u001b[38;5;124m\"\u001b[39m:\n",
      "File \u001b[0;32m~/miniconda3/envs/image_retrieval/lib/python3.12/site-packages/bm25s/__init__.py:384\u001b[0m, in \u001b[0;36mBM25.build_index_from_tokens\u001b[0;34m(self, corpus_tokens, show_progress, leave_progress)\u001b[0m\n\u001b[1;32m    377\u001b[0m \u001b[38;5;28;01mdef\u001b[39;00m \u001b[38;5;21mbuild_index_from_tokens\u001b[39m(\n\u001b[1;32m    378\u001b[0m     \u001b[38;5;28mself\u001b[39m, corpus_tokens, show_progress\u001b[38;5;241m=\u001b[39m\u001b[38;5;28;01mTrue\u001b[39;00m, leave_progress\u001b[38;5;241m=\u001b[39m\u001b[38;5;28;01mFalse\u001b[39;00m\n\u001b[1;32m    379\u001b[0m ):\n\u001b[1;32m    380\u001b[0m \u001b[38;5;250m    \u001b[39m\u001b[38;5;124;03m\"\"\"\u001b[39;00m\n\u001b[1;32m    381\u001b[0m \u001b[38;5;124;03m    Low-level function to build the BM25 index from tokens, used by the `index` method.\u001b[39;00m\n\u001b[1;32m    382\u001b[0m \u001b[38;5;124;03m    You can override this function if you want to build the index in a different way.\u001b[39;00m\n\u001b[1;32m    383\u001b[0m \u001b[38;5;124;03m    \"\"\"\u001b[39;00m\n\u001b[0;32m--> 384\u001b[0m     unique_tokens \u001b[38;5;241m=\u001b[39m get_unique_tokens(\n\u001b[1;32m    385\u001b[0m         corpus_tokens,\n\u001b[1;32m    386\u001b[0m         show_progress\u001b[38;5;241m=\u001b[39mshow_progress,\n\u001b[1;32m    387\u001b[0m         leave_progress\u001b[38;5;241m=\u001b[39mleave_progress,\n\u001b[1;32m    388\u001b[0m         desc\u001b[38;5;241m=\u001b[39m\u001b[38;5;124m\"\u001b[39m\u001b[38;5;124mBM25S Create Vocab\u001b[39m\u001b[38;5;124m\"\u001b[39m,\n\u001b[1;32m    389\u001b[0m     )\n\u001b[1;32m    390\u001b[0m     vocab_dict \u001b[38;5;241m=\u001b[39m {token: i \u001b[38;5;28;01mfor\u001b[39;00m i, token \u001b[38;5;129;01min\u001b[39;00m \u001b[38;5;28menumerate\u001b[39m(unique_tokens)}\n\u001b[1;32m    391\u001b[0m     unique_token_ids \u001b[38;5;241m=\u001b[39m [vocab_dict[token] \u001b[38;5;28;01mfor\u001b[39;00m token \u001b[38;5;129;01min\u001b[39;00m unique_tokens]\n",
      "File \u001b[0;32m~/miniconda3/envs/image_retrieval/lib/python3.12/site-packages/bm25s/__init__.py:86\u001b[0m, in \u001b[0;36mget_unique_tokens\u001b[0;34m(corpus_tokens, show_progress, leave_progress, desc)\u001b[0m\n\u001b[1;32m     82\u001b[0m unique_tokens \u001b[38;5;241m=\u001b[39m \u001b[38;5;28mset\u001b[39m()\n\u001b[1;32m     83\u001b[0m \u001b[38;5;28;01mfor\u001b[39;00m doc_tokens \u001b[38;5;129;01min\u001b[39;00m tqdm(\n\u001b[1;32m     84\u001b[0m     corpus_tokens, desc\u001b[38;5;241m=\u001b[39mdesc, disable\u001b[38;5;241m=\u001b[39m\u001b[38;5;129;01mnot\u001b[39;00m show_progress, leave\u001b[38;5;241m=\u001b[39mleave_progress\n\u001b[1;32m     85\u001b[0m ):\n\u001b[0;32m---> 86\u001b[0m     unique_tokens\u001b[38;5;241m.\u001b[39mupdate(doc_tokens)\n\u001b[1;32m     87\u001b[0m \u001b[38;5;28;01mreturn\u001b[39;00m unique_tokens\n",
      "\u001b[0;31mTypeError\u001b[0m: unhashable type: 'list'"
     ]
    }
   ],
   "source": [
    "# Create the BM25 model and index the corpus\n",
    "# retriever = bm25s.BM25()\n",
    "retriever.index([corpus_tokens, corpus_tokens])\n",
    "retriever"
   ]
  },
  {
   "cell_type": "code",
   "execution_count": 21,
   "id": "b63c6d45-950f-4c0c-ace1-ea8044fde040",
   "metadata": {},
   "outputs": [
    {
     "data": {
      "text/plain": [
       "{'k1': 1.5,\n",
       " 'b': 0.75,\n",
       " 'delta': 0.5,\n",
       " 'dtype': 'float32',\n",
       " 'int_dtype': 'int32',\n",
       " 'method': 'lucene',\n",
       " 'idf_method': 'lucene',\n",
       " 'methods_requiring_nonoccurrence': ('bm25l', 'bm25+'),\n",
       " 'corpus': None,\n",
       " '_original_version': '0.2.12',\n",
       " 'backend': 'numpy',\n",
       " 'nonoccurrence_array': None,\n",
       " 'scores': {'data': array([0.44182488, 0.48158914, 0.48158914, 0.44182488, 0.44182488,\n",
       "         0.48158914, 0.48158914, 0.5292188 , 0.44182488, 0.48158914,\n",
       "         0.48158914, 0.5292188 , 0.44182488, 0.5292188 , 0.44182488,\n",
       "         0.48158914, 0.48158914, 0.48158914, 0.48158914, 0.5292188 ],\n",
       "        dtype=float32),\n",
       "  'indices': array([1, 2, 3, 1, 1, 3, 2, 0, 1, 3, 2, 0, 1, 0, 1, 3, 2, 2, 3, 0],\n",
       "        dtype=int32),\n",
       "  'indptr': array([ 0,  1,  2,  3,  4,  5,  6,  7,  8,  9, 10, 11, 12, 13, 14, 15, 16,\n",
       "         17, 18, 19, 20, 20], dtype=int32),\n",
       "  'num_docs': 4},\n",
       " 'vocab_dict': {'play': 0,\n",
       "  'anim': 1,\n",
       "  'water': 2,\n",
       "  'love': 3,\n",
       "  'best': 4,\n",
       "  'swim': 5,\n",
       "  'beauti': 6,\n",
       "  'cat': 7,\n",
       "  'dog': 8,\n",
       "  'creatur': 9,\n",
       "  'can': 10,\n",
       "  'felin': 11,\n",
       "  'friend': 12,\n",
       "  'like': 13,\n",
       "  'human': 14,\n",
       "  'live': 15,\n",
       "  'bird': 16,\n",
       "  'fli': 17,\n",
       "  'fish': 18,\n",
       "  'purr': 19,\n",
       "  '': 20},\n",
       " 'unique_token_ids_set': {0,\n",
       "  1,\n",
       "  2,\n",
       "  3,\n",
       "  4,\n",
       "  5,\n",
       "  6,\n",
       "  7,\n",
       "  8,\n",
       "  9,\n",
       "  10,\n",
       "  11,\n",
       "  12,\n",
       "  13,\n",
       "  14,\n",
       "  15,\n",
       "  16,\n",
       "  17,\n",
       "  18,\n",
       "  19,\n",
       "  20}}"
      ]
     },
     "execution_count": 21,
     "metadata": {},
     "output_type": "execute_result"
    }
   ],
   "source": [
    "retriever.__dict__"
   ]
  },
  {
   "cell_type": "code",
   "execution_count": 6,
   "id": "a971f764-5bd3-4dab-9f6f-da35d5772ffe",
   "metadata": {},
   "outputs": [
    {
     "name": "stderr",
     "output_type": "stream",
     "text": [
      "                                                                                                                                                                                                                \r"
     ]
    },
    {
     "data": {
      "text/plain": [
       "Tokenized(\n",
       "  \"ids\": [\n",
       "    0: [1, 3, 4, 0, 2]\n",
       "  ],\n",
       "  \"vocab\": [\n",
       "    'cat': 2\n",
       "    'doe': 1\n",
       "    'fish': 3\n",
       "    'like': 0\n",
       "    'purr': 4\n",
       "  ],\n",
       ")"
      ]
     },
     "execution_count": 6,
     "metadata": {},
     "output_type": "execute_result"
    }
   ],
   "source": [
    "# Query the corpus\n",
    "query = \"does the fish purr like a cat?\"\n",
    "query_tokens = bm25s.tokenize(query, stemmer=stemmer)\n",
    "query_tokens"
   ]
  },
  {
   "cell_type": "code",
   "execution_count": 7,
   "id": "ef50b718-a04f-46ee-8d29-47009bf536cb",
   "metadata": {},
   "outputs": [
    {
     "name": "stderr",
     "output_type": "stream",
     "text": [
      "                                                                                                                                                                                                                \r"
     ]
    }
   ],
   "source": [
    "# Get top-k results as a tuple of (doc ids, scores). Both are arrays of shape (n_queries, k).\n",
    "# To return docs instead of IDs, set the `corpus=corpus` parameter.\n",
    "results, scores = retriever.retrieve(query_tokens, k=2)"
   ]
  },
  {
   "cell_type": "code",
   "execution_count": 9,
   "id": "0485dcf3-6b39-4252-a061-b692a9226555",
   "metadata": {},
   "outputs": [
    {
     "data": {
      "text/plain": [
       "(array([[0, 3]], dtype=int32),\n",
       " array([[1.5876564 , 0.48158914]], dtype=float32))"
      ]
     },
     "execution_count": 9,
     "metadata": {},
     "output_type": "execute_result"
    }
   ],
   "source": [
    "results, scores"
   ]
  },
  {
   "cell_type": "code",
   "execution_count": null,
   "id": "3af79fa3-caa3-4607-b1b3-aae7890d6272",
   "metadata": {},
   "outputs": [],
   "source": [
    "for i in range(results.shape[1]):\n",
    "    doc, score = results[0, i], scores[0, i]\n",
    "    print(f\"Rank {i+1} (score: {score:.2f}): {doc}\")\n",
    "\n",
    "# You can save the arrays to a directory...\n",
    "retriever.save(\"animal_index_bm25\")\n",
    "\n",
    "# You can save the corpus along with the model\n",
    "retriever.save(\"animal_index_bm25\", corpus=corpus)\n",
    "\n",
    "# ...and load them when you need them\n",
    "import bm25s\n",
    "\n",
    "reloaded_retriever = bm25s.BM25.load(\"animal_index_bm25\", load_corpus=True)\n",
    "# set load_corpus=False if you don't need the corpus"
   ]
  }
 ],
 "metadata": {
  "kernelspec": {
   "display_name": "image_retrieval",
   "language": "python",
   "name": "image_retrieval"
  },
  "language_info": {
   "codemirror_mode": {
    "name": "ipython",
    "version": 3
   },
   "file_extension": ".py",
   "mimetype": "text/x-python",
   "name": "python",
   "nbconvert_exporter": "python",
   "pygments_lexer": "ipython3",
   "version": "3.12.9"
  }
 },
 "nbformat": 4,
 "nbformat_minor": 5
}
